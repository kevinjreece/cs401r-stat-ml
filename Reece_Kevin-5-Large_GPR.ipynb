{
 "cells": [
  {
   "cell_type": "markdown",
   "metadata": {},
   "source": [
    "## Setup"
   ]
  },
  {
   "cell_type": "code",
   "execution_count": null,
   "metadata": {
    "collapsed": true
   },
   "outputs": [],
   "source": [
    "import pandas\n",
    "\n",
    "n = pandas.read_csv('data/store_train.csv')\n",
    "test_data = pandas.read_csv('data/store_test.csv')\n",
    "m_size = 10\n",
    "ss = 1.0\n",
    "\n",
    "####\n",
    "# Get the m array containing the active set\n",
    "####\n",
    "m = train_data.sample(m_size)\n",
    "\n",
    "print m\n",
    "print m.shape\n",
    "print train_data.shape\n",
    "print test_data.shape"
   ]
  },
  {
   "cell_type": "markdown",
   "metadata": {},
   "source": [
    "## Define kernels"
   ]
  },
  {
   "cell_type": "code",
   "execution_count": null,
   "metadata": {
    "collapsed": true
   },
   "outputs": [],
   "source": [
    "def dataK(xi, xj):\n",
    "    return storeK(xi.Store, xj.Store) + dowK(xi.DayOfWeek, xj.DayOfWeek)\n",
    "\n",
    "def storeK(xi, xj):\n",
    "    return xi == xj\n",
    "\n",
    "def dowK(xi, xj):\n",
    "    return xi == xj\n",
    "\n",
    "def openK(xi, xj):\n",
    "    return xi == xj\n",
    "\n",
    "def promoK(xi, xj):\n",
    "    return xi == xj"
   ]
  },
  {
   "cell_type": "markdown",
   "metadata": {},
   "source": [
    "## Define subset of regressors functions"
   ]
  },
  {
   "cell_type": "code",
   "execution_count": null,
   "metadata": {
    "collapsed": true
   },
   "outputs": [],
   "source": [
    "def mu_prime(xtest):\n",
    "    "
   ]
  },
  {
   "cell_type": "markdown",
   "metadata": {},
   "source": [
    "## Run gaussian process regression"
   ]
  },
  {
   "cell_type": "code",
   "execution_count": null,
   "metadata": {
    "collapsed": true
   },
   "outputs": [],
   "source": [
    "predictions = [mu_prime(xtest) for xtest in test_data]"
   ]
  }
 ],
 "metadata": {
  "kernelspec": {
   "display_name": "Python 2",
   "language": "python",
   "name": "python2"
  },
  "language_info": {
   "codemirror_mode": {
    "name": "ipython",
    "version": 2
   },
   "file_extension": ".py",
   "mimetype": "text/x-python",
   "name": "python",
   "nbconvert_exporter": "python",
   "pygments_lexer": "ipython2",
   "version": "2.7.11"
  }
 },
 "nbformat": 4,
 "nbformat_minor": 0
}
